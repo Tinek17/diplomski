{
 "cells": [
  {
   "cell_type": "code",
   "execution_count": 1,
   "metadata": {},
   "outputs": [],
   "source": [
    "from sklearn.decomposition import PCA\n",
    "import pandas as pd\n",
    "import numpy as np\n",
    "import seaborn as sns\n",
    "import warnings\n",
    "import matplotlib.pyplot as plt\n",
    "from sklearn.preprocessing import MinMaxScaler\n",
    "import plotly.express as px\n",
    "from sklearn.linear_model import LinearRegression\n",
    "from sklearn.neighbors import KNeighborsRegressor\n",
    "from sklearn.tree import DecisionTreeRegressor\n",
    "from sklearn.ensemble import RandomForestRegressor\n",
    "from sklearn.metrics import r2_score\n",
    "from sklearn.model_selection import train_test_split\n",
    "warnings.filterwarnings('ignore')"
   ]
  },
  {
   "cell_type": "code",
   "execution_count": 2,
   "metadata": {},
   "outputs": [],
   "source": [
    "data = pd.read_csv(r'../data/PM.csv',index_col=0)"
   ]
  },
  {
   "cell_type": "code",
   "execution_count": 3,
   "metadata": {},
   "outputs": [],
   "source": [
    "data = pd.read_csv(r'../data/promet.csv',index_col=0)"
   ]
  },
  {
   "cell_type": "code",
   "execution_count": 4,
   "metadata": {},
   "outputs": [
    {
     "data": {
      "text/html": [
       "<div>\n",
       "<style scoped>\n",
       "    .dataframe tbody tr th:only-of-type {\n",
       "        vertical-align: middle;\n",
       "    }\n",
       "\n",
       "    .dataframe tbody tr th {\n",
       "        vertical-align: top;\n",
       "    }\n",
       "\n",
       "    .dataframe thead th {\n",
       "        text-align: right;\n",
       "    }\n",
       "</style>\n",
       "<table border=\"1\" class=\"dataframe\">\n",
       "  <thead>\n",
       "    <tr style=\"text-align: right;\">\n",
       "      <th></th>\n",
       "      <th>Ost_8010_208</th>\n",
       "      <th>DonBosco_8020_110</th>\n",
       "      <th>DonBosco_8020_119</th>\n",
       "      <th>DonBosco_8020_122</th>\n",
       "      <th>DonBosco_8053_111</th>\n",
       "      <th>Nord_8010_205</th>\n",
       "      <th>Ost_8010_209</th>\n",
       "      <th>Ost_8010_213</th>\n",
       "      <th>Ost_8010_214</th>\n",
       "      <th>Nord_8020_102</th>\n",
       "      <th>West_8020_103</th>\n",
       "      <th>Sud_8020_107</th>\n",
       "      <th>Sud_8041_218</th>\n",
       "      <th>Ost_8041_221</th>\n",
       "      <th>Nord_8045_203</th>\n",
       "      <th>Nord_8051_101</th>\n",
       "    </tr>\n",
       "  </thead>\n",
       "  <tbody>\n",
       "    <tr>\n",
       "      <th>2018-01-01</th>\n",
       "      <td>663.0</td>\n",
       "      <td>534.0</td>\n",
       "      <td>624.0</td>\n",
       "      <td>668.0</td>\n",
       "      <td>467.0</td>\n",
       "      <td>352.0</td>\n",
       "      <td>344.0</td>\n",
       "      <td>364.0</td>\n",
       "      <td>341.0</td>\n",
       "      <td>622.0</td>\n",
       "      <td>816.0</td>\n",
       "      <td>384.0</td>\n",
       "      <td>175.0</td>\n",
       "      <td>459.0</td>\n",
       "      <td>376.000000</td>\n",
       "      <td>543.0</td>\n",
       "    </tr>\n",
       "    <tr>\n",
       "      <th>2018-01-02</th>\n",
       "      <td>927.0</td>\n",
       "      <td>924.0</td>\n",
       "      <td>772.0</td>\n",
       "      <td>1191.0</td>\n",
       "      <td>904.0</td>\n",
       "      <td>673.0</td>\n",
       "      <td>563.0</td>\n",
       "      <td>544.0</td>\n",
       "      <td>702.0</td>\n",
       "      <td>1181.0</td>\n",
       "      <td>1390.0</td>\n",
       "      <td>889.0</td>\n",
       "      <td>451.0</td>\n",
       "      <td>1070.0</td>\n",
       "      <td>755.000000</td>\n",
       "      <td>1128.0</td>\n",
       "    </tr>\n",
       "    <tr>\n",
       "      <th>2018-01-03</th>\n",
       "      <td>962.0</td>\n",
       "      <td>922.0</td>\n",
       "      <td>772.0</td>\n",
       "      <td>1206.0</td>\n",
       "      <td>883.0</td>\n",
       "      <td>699.0</td>\n",
       "      <td>587.0</td>\n",
       "      <td>553.0</td>\n",
       "      <td>711.0</td>\n",
       "      <td>1149.0</td>\n",
       "      <td>1358.0</td>\n",
       "      <td>885.0</td>\n",
       "      <td>453.0</td>\n",
       "      <td>1104.0</td>\n",
       "      <td>767.000000</td>\n",
       "      <td>1099.0</td>\n",
       "    </tr>\n",
       "    <tr>\n",
       "      <th>2018-01-04</th>\n",
       "      <td>978.0</td>\n",
       "      <td>941.0</td>\n",
       "      <td>801.0</td>\n",
       "      <td>1233.0</td>\n",
       "      <td>900.0</td>\n",
       "      <td>720.0</td>\n",
       "      <td>606.0</td>\n",
       "      <td>565.0</td>\n",
       "      <td>726.0</td>\n",
       "      <td>1176.0</td>\n",
       "      <td>1404.0</td>\n",
       "      <td>904.0</td>\n",
       "      <td>458.0</td>\n",
       "      <td>1126.0</td>\n",
       "      <td>776.000000</td>\n",
       "      <td>1131.0</td>\n",
       "    </tr>\n",
       "    <tr>\n",
       "      <th>2018-01-05</th>\n",
       "      <td>1027.0</td>\n",
       "      <td>986.0</td>\n",
       "      <td>852.0</td>\n",
       "      <td>1278.0</td>\n",
       "      <td>946.0</td>\n",
       "      <td>743.0</td>\n",
       "      <td>613.0</td>\n",
       "      <td>604.0</td>\n",
       "      <td>762.0</td>\n",
       "      <td>1278.0</td>\n",
       "      <td>1468.0</td>\n",
       "      <td>956.0</td>\n",
       "      <td>475.0</td>\n",
       "      <td>1175.0</td>\n",
       "      <td>838.000000</td>\n",
       "      <td>1238.0</td>\n",
       "    </tr>\n",
       "    <tr>\n",
       "      <th>...</th>\n",
       "      <td>...</td>\n",
       "      <td>...</td>\n",
       "      <td>...</td>\n",
       "      <td>...</td>\n",
       "      <td>...</td>\n",
       "      <td>...</td>\n",
       "      <td>...</td>\n",
       "      <td>...</td>\n",
       "      <td>...</td>\n",
       "      <td>...</td>\n",
       "      <td>...</td>\n",
       "      <td>...</td>\n",
       "      <td>...</td>\n",
       "      <td>...</td>\n",
       "      <td>...</td>\n",
       "      <td>...</td>\n",
       "    </tr>\n",
       "    <tr>\n",
       "      <th>2020-03-11</th>\n",
       "      <td>931.0</td>\n",
       "      <td>1193.0</td>\n",
       "      <td>469.0</td>\n",
       "      <td>1342.0</td>\n",
       "      <td>1019.0</td>\n",
       "      <td>683.0</td>\n",
       "      <td>698.0</td>\n",
       "      <td>680.0</td>\n",
       "      <td>812.0</td>\n",
       "      <td>1396.0</td>\n",
       "      <td>1542.0</td>\n",
       "      <td>1011.0</td>\n",
       "      <td>510.0</td>\n",
       "      <td>1351.0</td>\n",
       "      <td>868.407975</td>\n",
       "      <td>1357.0</td>\n",
       "    </tr>\n",
       "    <tr>\n",
       "      <th>2020-03-12</th>\n",
       "      <td>922.0</td>\n",
       "      <td>1158.0</td>\n",
       "      <td>478.0</td>\n",
       "      <td>1333.0</td>\n",
       "      <td>992.0</td>\n",
       "      <td>652.0</td>\n",
       "      <td>664.0</td>\n",
       "      <td>669.0</td>\n",
       "      <td>792.0</td>\n",
       "      <td>1366.0</td>\n",
       "      <td>1509.0</td>\n",
       "      <td>1022.0</td>\n",
       "      <td>507.0</td>\n",
       "      <td>1303.0</td>\n",
       "      <td>868.407975</td>\n",
       "      <td>1337.0</td>\n",
       "    </tr>\n",
       "    <tr>\n",
       "      <th>2020-03-13</th>\n",
       "      <td>892.0</td>\n",
       "      <td>1166.0</td>\n",
       "      <td>492.0</td>\n",
       "      <td>1371.0</td>\n",
       "      <td>989.0</td>\n",
       "      <td>655.0</td>\n",
       "      <td>639.0</td>\n",
       "      <td>689.0</td>\n",
       "      <td>817.0</td>\n",
       "      <td>1424.0</td>\n",
       "      <td>1513.0</td>\n",
       "      <td>992.0</td>\n",
       "      <td>523.0</td>\n",
       "      <td>1266.0</td>\n",
       "      <td>868.407975</td>\n",
       "      <td>1335.0</td>\n",
       "    </tr>\n",
       "    <tr>\n",
       "      <th>2020-03-14</th>\n",
       "      <td>487.0</td>\n",
       "      <td>727.0</td>\n",
       "      <td>341.0</td>\n",
       "      <td>877.0</td>\n",
       "      <td>613.0</td>\n",
       "      <td>320.0</td>\n",
       "      <td>359.0</td>\n",
       "      <td>382.0</td>\n",
       "      <td>447.0</td>\n",
       "      <td>872.0</td>\n",
       "      <td>1001.0</td>\n",
       "      <td>597.0</td>\n",
       "      <td>310.0</td>\n",
       "      <td>560.0</td>\n",
       "      <td>868.407975</td>\n",
       "      <td>778.0</td>\n",
       "    </tr>\n",
       "    <tr>\n",
       "      <th>2020-03-15</th>\n",
       "      <td>413.0</td>\n",
       "      <td>515.0</td>\n",
       "      <td>237.0</td>\n",
       "      <td>593.0</td>\n",
       "      <td>411.0</td>\n",
       "      <td>230.0</td>\n",
       "      <td>286.0</td>\n",
       "      <td>268.0</td>\n",
       "      <td>289.0</td>\n",
       "      <td>592.0</td>\n",
       "      <td>756.0</td>\n",
       "      <td>359.0</td>\n",
       "      <td>170.0</td>\n",
       "      <td>400.0</td>\n",
       "      <td>868.407975</td>\n",
       "      <td>509.0</td>\n",
       "    </tr>\n",
       "  </tbody>\n",
       "</table>\n",
       "<p>805 rows × 16 columns</p>\n",
       "</div>"
      ],
      "text/plain": [
       "            Ost_8010_208  DonBosco_8020_110  DonBosco_8020_119  \\\n",
       "2018-01-01         663.0              534.0              624.0   \n",
       "2018-01-02         927.0              924.0              772.0   \n",
       "2018-01-03         962.0              922.0              772.0   \n",
       "2018-01-04         978.0              941.0              801.0   \n",
       "2018-01-05        1027.0              986.0              852.0   \n",
       "...                  ...                ...                ...   \n",
       "2020-03-11         931.0             1193.0              469.0   \n",
       "2020-03-12         922.0             1158.0              478.0   \n",
       "2020-03-13         892.0             1166.0              492.0   \n",
       "2020-03-14         487.0              727.0              341.0   \n",
       "2020-03-15         413.0              515.0              237.0   \n",
       "\n",
       "            DonBosco_8020_122  DonBosco_8053_111  Nord_8010_205  Ost_8010_209  \\\n",
       "2018-01-01              668.0              467.0          352.0         344.0   \n",
       "2018-01-02             1191.0              904.0          673.0         563.0   \n",
       "2018-01-03             1206.0              883.0          699.0         587.0   \n",
       "2018-01-04             1233.0              900.0          720.0         606.0   \n",
       "2018-01-05             1278.0              946.0          743.0         613.0   \n",
       "...                       ...                ...            ...           ...   \n",
       "2020-03-11             1342.0             1019.0          683.0         698.0   \n",
       "2020-03-12             1333.0              992.0          652.0         664.0   \n",
       "2020-03-13             1371.0              989.0          655.0         639.0   \n",
       "2020-03-14              877.0              613.0          320.0         359.0   \n",
       "2020-03-15              593.0              411.0          230.0         286.0   \n",
       "\n",
       "            Ost_8010_213  Ost_8010_214  Nord_8020_102  West_8020_103  \\\n",
       "2018-01-01         364.0         341.0          622.0          816.0   \n",
       "2018-01-02         544.0         702.0         1181.0         1390.0   \n",
       "2018-01-03         553.0         711.0         1149.0         1358.0   \n",
       "2018-01-04         565.0         726.0         1176.0         1404.0   \n",
       "2018-01-05         604.0         762.0         1278.0         1468.0   \n",
       "...                  ...           ...            ...            ...   \n",
       "2020-03-11         680.0         812.0         1396.0         1542.0   \n",
       "2020-03-12         669.0         792.0         1366.0         1509.0   \n",
       "2020-03-13         689.0         817.0         1424.0         1513.0   \n",
       "2020-03-14         382.0         447.0          872.0         1001.0   \n",
       "2020-03-15         268.0         289.0          592.0          756.0   \n",
       "\n",
       "            Sud_8020_107  Sud_8041_218  Ost_8041_221  Nord_8045_203  \\\n",
       "2018-01-01         384.0         175.0         459.0     376.000000   \n",
       "2018-01-02         889.0         451.0        1070.0     755.000000   \n",
       "2018-01-03         885.0         453.0        1104.0     767.000000   \n",
       "2018-01-04         904.0         458.0        1126.0     776.000000   \n",
       "2018-01-05         956.0         475.0        1175.0     838.000000   \n",
       "...                  ...           ...           ...            ...   \n",
       "2020-03-11        1011.0         510.0        1351.0     868.407975   \n",
       "2020-03-12        1022.0         507.0        1303.0     868.407975   \n",
       "2020-03-13         992.0         523.0        1266.0     868.407975   \n",
       "2020-03-14         597.0         310.0         560.0     868.407975   \n",
       "2020-03-15         359.0         170.0         400.0     868.407975   \n",
       "\n",
       "            Nord_8051_101  \n",
       "2018-01-01          543.0  \n",
       "2018-01-02         1128.0  \n",
       "2018-01-03         1099.0  \n",
       "2018-01-04         1131.0  \n",
       "2018-01-05         1238.0  \n",
       "...                   ...  \n",
       "2020-03-11         1357.0  \n",
       "2020-03-12         1337.0  \n",
       "2020-03-13         1335.0  \n",
       "2020-03-14          778.0  \n",
       "2020-03-15          509.0  \n",
       "\n",
       "[805 rows x 16 columns]"
      ]
     },
     "execution_count": 4,
     "metadata": {},
     "output_type": "execute_result"
    }
   ],
   "source": [
    "data"
   ]
  },
  {
   "cell_type": "code",
   "execution_count": 5,
   "metadata": {},
   "outputs": [],
   "source": [
    "data = data.fillna(method='bfill')"
   ]
  },
  {
   "cell_type": "code",
   "execution_count": 6,
   "metadata": {},
   "outputs": [],
   "source": [
    "sc = MinMaxScaler()"
   ]
  },
  {
   "cell_type": "code",
   "execution_count": 7,
   "metadata": {},
   "outputs": [],
   "source": [
    "data_sc = sc.fit_transform(data)"
   ]
  },
  {
   "cell_type": "code",
   "execution_count": 8,
   "metadata": {},
   "outputs": [
    {
     "data": {
      "text/plain": [
       "array([[0.33865248, 0.15384615, 0.60763209, ..., 0.21915167, 0.14046823,\n",
       "        0.15460993],\n",
       "       [0.57269504, 0.49475524, 0.75244618, ..., 0.61182519, 0.56298774,\n",
       "        0.56950355],\n",
       "       [0.6037234 , 0.49300699, 0.75244618, ..., 0.63367609, 0.57636566,\n",
       "        0.54893617],\n",
       "       ...,\n",
       "       [0.54166667, 0.70629371, 0.47847358, ..., 0.7377892 , 0.68941803,\n",
       "        0.71631206],\n",
       "       [0.18262411, 0.32255245, 0.33072407, ..., 0.2840617 , 0.68941803,\n",
       "        0.3212766 ],\n",
       "       [0.11702128, 0.13723776, 0.22896282, ..., 0.18123393, 0.68941803,\n",
       "        0.13049645]])"
      ]
     },
     "execution_count": 8,
     "metadata": {},
     "output_type": "execute_result"
    }
   ],
   "source": [
    "data_sc "
   ]
  },
  {
   "cell_type": "code",
   "execution_count": 27,
   "metadata": {},
   "outputs": [],
   "source": [
    "pca = PCA(n_components=5)"
   ]
  },
  {
   "cell_type": "code",
   "execution_count": 28,
   "metadata": {},
   "outputs": [],
   "source": [
    "pca_matrica = pca.fit_transform(data_sc)"
   ]
  },
  {
   "cell_type": "code",
   "execution_count": 29,
   "metadata": {},
   "outputs": [
    {
     "data": {
      "text/plain": [
       "array([[ 1.88489342,  0.36162022, -0.04311937, -0.03598947, -0.02832341],\n",
       "       [ 0.35462742,  0.24366355, -0.14628346, -0.09710345,  0.011449  ],\n",
       "       [ 0.32922246,  0.27331544, -0.12619408, -0.0673142 , -0.01201367],\n",
       "       ...,\n",
       "       [-0.06719625, -0.11511881, -0.05993727, -0.05721772,  0.11056726],\n",
       "       [ 1.41380777, -0.09146873, -0.02233111, -0.06737724, -0.17299502],\n",
       "       [ 2.04425694, -0.00652698,  0.10358514,  0.01606524, -0.31534999]])"
      ]
     },
     "execution_count": 29,
     "metadata": {},
     "output_type": "execute_result"
    }
   ],
   "source": [
    "pca_matrica\n"
   ]
  },
  {
   "cell_type": "code",
   "execution_count": 30,
   "metadata": {},
   "outputs": [],
   "source": [
    "component_names = [f\"PC{i+1}\" for i in range(pca_matrica.shape[1])]"
   ]
  },
  {
   "cell_type": "code",
   "execution_count": 31,
   "metadata": {},
   "outputs": [
    {
     "data": {
      "text/html": [
       "<div>\n",
       "<style scoped>\n",
       "    .dataframe tbody tr th:only-of-type {\n",
       "        vertical-align: middle;\n",
       "    }\n",
       "\n",
       "    .dataframe tbody tr th {\n",
       "        vertical-align: top;\n",
       "    }\n",
       "\n",
       "    .dataframe thead th {\n",
       "        text-align: right;\n",
       "    }\n",
       "</style>\n",
       "<table border=\"1\" class=\"dataframe\">\n",
       "  <thead>\n",
       "    <tr style=\"text-align: right;\">\n",
       "      <th></th>\n",
       "      <th>PC1</th>\n",
       "      <th>PC2</th>\n",
       "      <th>PC3</th>\n",
       "      <th>PC4</th>\n",
       "      <th>PC5</th>\n",
       "    </tr>\n",
       "  </thead>\n",
       "  <tbody>\n",
       "    <tr>\n",
       "      <th>2018-01-01</th>\n",
       "      <td>1.884893</td>\n",
       "      <td>0.361620</td>\n",
       "      <td>-0.043119</td>\n",
       "      <td>-0.035989</td>\n",
       "      <td>-0.028323</td>\n",
       "    </tr>\n",
       "    <tr>\n",
       "      <th>2018-01-02</th>\n",
       "      <td>0.354627</td>\n",
       "      <td>0.243664</td>\n",
       "      <td>-0.146283</td>\n",
       "      <td>-0.097103</td>\n",
       "      <td>0.011449</td>\n",
       "    </tr>\n",
       "    <tr>\n",
       "      <th>2018-01-03</th>\n",
       "      <td>0.329222</td>\n",
       "      <td>0.273315</td>\n",
       "      <td>-0.126194</td>\n",
       "      <td>-0.067314</td>\n",
       "      <td>-0.012014</td>\n",
       "    </tr>\n",
       "    <tr>\n",
       "      <th>2018-01-04</th>\n",
       "      <td>0.251682</td>\n",
       "      <td>0.284983</td>\n",
       "      <td>-0.133638</td>\n",
       "      <td>-0.075003</td>\n",
       "      <td>-0.006125</td>\n",
       "    </tr>\n",
       "    <tr>\n",
       "      <th>2018-01-05</th>\n",
       "      <td>0.074455</td>\n",
       "      <td>0.296354</td>\n",
       "      <td>-0.156916</td>\n",
       "      <td>-0.115884</td>\n",
       "      <td>0.002644</td>\n",
       "    </tr>\n",
       "  </tbody>\n",
       "</table>\n",
       "</div>"
      ],
      "text/plain": [
       "                 PC1       PC2       PC3       PC4       PC5\n",
       "2018-01-01  1.884893  0.361620 -0.043119 -0.035989 -0.028323\n",
       "2018-01-02  0.354627  0.243664 -0.146283 -0.097103  0.011449\n",
       "2018-01-03  0.329222  0.273315 -0.126194 -0.067314 -0.012014\n",
       "2018-01-04  0.251682  0.284983 -0.133638 -0.075003 -0.006125\n",
       "2018-01-05  0.074455  0.296354 -0.156916 -0.115884  0.002644"
      ]
     },
     "execution_count": 31,
     "metadata": {},
     "output_type": "execute_result"
    }
   ],
   "source": [
    "pca_df = pd.DataFrame(pca_matrica, index=data.index, columns = component_names)\n",
    "pca_df.head()"
   ]
  },
  {
   "cell_type": "code",
   "execution_count": 34,
   "metadata": {},
   "outputs": [
    {
     "name": "stdout",
     "output_type": "stream",
     "text": [
      "94.32 %\n"
     ]
    }
   ],
   "source": [
    "total_var = pca.explained_variance_ratio_.sum() * 100\n",
    "print(f'{total_var.round(2)} %')"
   ]
  },
  {
   "cell_type": "code",
   "execution_count": null,
   "metadata": {},
   "outputs": [],
   "source": []
  },
  {
   "cell_type": "code",
   "execution_count": 15,
   "metadata": {},
   "outputs": [
    {
     "data": {
      "text/html": [
       "<div>\n",
       "<style scoped>\n",
       "    .dataframe tbody tr th:only-of-type {\n",
       "        vertical-align: middle;\n",
       "    }\n",
       "\n",
       "    .dataframe tbody tr th {\n",
       "        vertical-align: top;\n",
       "    }\n",
       "\n",
       "    .dataframe thead th {\n",
       "        text-align: right;\n",
       "    }\n",
       "</style>\n",
       "<table border=\"1\" class=\"dataframe\">\n",
       "  <thead>\n",
       "    <tr style=\"text-align: right;\">\n",
       "      <th></th>\n",
       "      <th>PC1</th>\n",
       "      <th>PC2</th>\n",
       "    </tr>\n",
       "  </thead>\n",
       "  <tbody>\n",
       "    <tr>\n",
       "      <th>Ost_8010_208</th>\n",
       "      <td>-0.227992</td>\n",
       "      <td>0.593346</td>\n",
       "    </tr>\n",
       "    <tr>\n",
       "      <th>DonBosco_8020_110</th>\n",
       "      <td>-0.213420</td>\n",
       "      <td>-0.297953</td>\n",
       "    </tr>\n",
       "    <tr>\n",
       "      <th>DonBosco_8020_119</th>\n",
       "      <td>-0.093056</td>\n",
       "      <td>0.650217</td>\n",
       "    </tr>\n",
       "    <tr>\n",
       "      <th>DonBosco_8020_122</th>\n",
       "      <td>-0.311567</td>\n",
       "      <td>0.000946</td>\n",
       "    </tr>\n",
       "    <tr>\n",
       "      <th>DonBosco_8053_111</th>\n",
       "      <td>-0.242022</td>\n",
       "      <td>-0.106407</td>\n",
       "    </tr>\n",
       "    <tr>\n",
       "      <th>Nord_8010_205</th>\n",
       "      <td>-0.321991</td>\n",
       "      <td>0.147316</td>\n",
       "    </tr>\n",
       "    <tr>\n",
       "      <th>Ost_8010_209</th>\n",
       "      <td>-0.265911</td>\n",
       "      <td>-0.026191</td>\n",
       "    </tr>\n",
       "    <tr>\n",
       "      <th>Ost_8010_213</th>\n",
       "      <td>-0.252956</td>\n",
       "      <td>-0.067613</td>\n",
       "    </tr>\n",
       "    <tr>\n",
       "      <th>Ost_8010_214</th>\n",
       "      <td>-0.296559</td>\n",
       "      <td>-0.195493</td>\n",
       "    </tr>\n",
       "    <tr>\n",
       "      <th>Nord_8020_102</th>\n",
       "      <td>-0.245000</td>\n",
       "      <td>-0.087360</td>\n",
       "    </tr>\n",
       "    <tr>\n",
       "      <th>West_8020_103</th>\n",
       "      <td>-0.220267</td>\n",
       "      <td>-0.039554</td>\n",
       "    </tr>\n",
       "    <tr>\n",
       "      <th>Sud_8020_107</th>\n",
       "      <td>-0.205728</td>\n",
       "      <td>-0.131518</td>\n",
       "    </tr>\n",
       "    <tr>\n",
       "      <th>Sud_8041_218</th>\n",
       "      <td>-0.248375</td>\n",
       "      <td>-0.079404</td>\n",
       "    </tr>\n",
       "    <tr>\n",
       "      <th>Ost_8041_221</th>\n",
       "      <td>-0.270342</td>\n",
       "      <td>0.129760</td>\n",
       "    </tr>\n",
       "    <tr>\n",
       "      <th>Nord_8045_203</th>\n",
       "      <td>-0.240768</td>\n",
       "      <td>-0.017797</td>\n",
       "    </tr>\n",
       "    <tr>\n",
       "      <th>Nord_8051_101</th>\n",
       "      <td>-0.261212</td>\n",
       "      <td>-0.099649</td>\n",
       "    </tr>\n",
       "  </tbody>\n",
       "</table>\n",
       "</div>"
      ],
      "text/plain": [
       "                        PC1       PC2\n",
       "Ost_8010_208      -0.227992  0.593346\n",
       "DonBosco_8020_110 -0.213420 -0.297953\n",
       "DonBosco_8020_119 -0.093056  0.650217\n",
       "DonBosco_8020_122 -0.311567  0.000946\n",
       "DonBosco_8053_111 -0.242022 -0.106407\n",
       "Nord_8010_205     -0.321991  0.147316\n",
       "Ost_8010_209      -0.265911 -0.026191\n",
       "Ost_8010_213      -0.252956 -0.067613\n",
       "Ost_8010_214      -0.296559 -0.195493\n",
       "Nord_8020_102     -0.245000 -0.087360\n",
       "West_8020_103     -0.220267 -0.039554\n",
       "Sud_8020_107      -0.205728 -0.131518\n",
       "Sud_8041_218      -0.248375 -0.079404\n",
       "Ost_8041_221      -0.270342  0.129760\n",
       "Nord_8045_203     -0.240768 -0.017797\n",
       "Nord_8051_101     -0.261212 -0.099649"
      ]
     },
     "execution_count": 15,
     "metadata": {},
     "output_type": "execute_result"
    }
   ],
   "source": [
    "loadings = pd.DataFrame(\n",
    "    pca.components_.T,  # transpose the matrix of loadings\n",
    "    columns=component_names,  # so the columns are the principal components\n",
    "    index=data.columns,  # and the rows are the original features\n",
    ")\n",
    "loadings"
   ]
  },
  {
   "cell_type": "code",
   "execution_count": 20,
   "metadata": {},
   "outputs": [
    {
     "data": {
      "application/vnd.plotly.v1+json": {
       "config": {
        "plotlyServerURL": "https://plot.ly"
       },
       "data": [
        {
         "hovertemplate": "index=Ost_8010_208<br>PC1=%{x}<br>PC2=%{y}<extra></extra>",
         "legendgroup": "Ost_8010_208",
         "marker": {
          "color": "#636efa",
          "symbol": "circle"
         },
         "mode": "markers",
         "name": "Ost_8010_208",
         "orientation": "v",
         "showlegend": true,
         "type": "scatter",
         "x": [
          -0.2279920755041075
         ],
         "xaxis": "x",
         "y": [
          0.5933460868135768
         ],
         "yaxis": "y"
        },
        {
         "hovertemplate": "index=DonBosco_8020_110<br>PC1=%{x}<br>PC2=%{y}<extra></extra>",
         "legendgroup": "DonBosco_8020_110",
         "marker": {
          "color": "#EF553B",
          "symbol": "circle"
         },
         "mode": "markers",
         "name": "DonBosco_8020_110",
         "orientation": "v",
         "showlegend": true,
         "type": "scatter",
         "x": [
          -0.21341971791641082
         ],
         "xaxis": "x",
         "y": [
          -0.29795280857001344
         ],
         "yaxis": "y"
        },
        {
         "hovertemplate": "index=DonBosco_8020_119<br>PC1=%{x}<br>PC2=%{y}<extra></extra>",
         "legendgroup": "DonBosco_8020_119",
         "marker": {
          "color": "#00cc96",
          "symbol": "circle"
         },
         "mode": "markers",
         "name": "DonBosco_8020_119",
         "orientation": "v",
         "showlegend": true,
         "type": "scatter",
         "x": [
          -0.09305588282265741
         ],
         "xaxis": "x",
         "y": [
          0.6502166086780777
         ],
         "yaxis": "y"
        },
        {
         "hovertemplate": "index=DonBosco_8020_122<br>PC1=%{x}<br>PC2=%{y}<extra></extra>",
         "legendgroup": "DonBosco_8020_122",
         "marker": {
          "color": "#ab63fa",
          "symbol": "circle"
         },
         "mode": "markers",
         "name": "DonBosco_8020_122",
         "orientation": "v",
         "showlegend": true,
         "type": "scatter",
         "x": [
          -0.3115669956285687
         ],
         "xaxis": "x",
         "y": [
          0.0009460533760157516
         ],
         "yaxis": "y"
        },
        {
         "hovertemplate": "index=DonBosco_8053_111<br>PC1=%{x}<br>PC2=%{y}<extra></extra>",
         "legendgroup": "DonBosco_8053_111",
         "marker": {
          "color": "#FFA15A",
          "symbol": "circle"
         },
         "mode": "markers",
         "name": "DonBosco_8053_111",
         "orientation": "v",
         "showlegend": true,
         "type": "scatter",
         "x": [
          -0.2420221403828021
         ],
         "xaxis": "x",
         "y": [
          -0.10640727984466855
         ],
         "yaxis": "y"
        },
        {
         "hovertemplate": "index=Nord_8010_205<br>PC1=%{x}<br>PC2=%{y}<extra></extra>",
         "legendgroup": "Nord_8010_205",
         "marker": {
          "color": "#19d3f3",
          "symbol": "circle"
         },
         "mode": "markers",
         "name": "Nord_8010_205",
         "orientation": "v",
         "showlegend": true,
         "type": "scatter",
         "x": [
          -0.321991093078658
         ],
         "xaxis": "x",
         "y": [
          0.1473164676988655
         ],
         "yaxis": "y"
        },
        {
         "hovertemplate": "index=Ost_8010_209<br>PC1=%{x}<br>PC2=%{y}<extra></extra>",
         "legendgroup": "Ost_8010_209",
         "marker": {
          "color": "#FF6692",
          "symbol": "circle"
         },
         "mode": "markers",
         "name": "Ost_8010_209",
         "orientation": "v",
         "showlegend": true,
         "type": "scatter",
         "x": [
          -0.2659110489946576
         ],
         "xaxis": "x",
         "y": [
          -0.0261912429256816
         ],
         "yaxis": "y"
        },
        {
         "hovertemplate": "index=Ost_8010_213<br>PC1=%{x}<br>PC2=%{y}<extra></extra>",
         "legendgroup": "Ost_8010_213",
         "marker": {
          "color": "#B6E880",
          "symbol": "circle"
         },
         "mode": "markers",
         "name": "Ost_8010_213",
         "orientation": "v",
         "showlegend": true,
         "type": "scatter",
         "x": [
          -0.2529560306998444
         ],
         "xaxis": "x",
         "y": [
          -0.06761318505577099
         ],
         "yaxis": "y"
        },
        {
         "hovertemplate": "index=Ost_8010_214<br>PC1=%{x}<br>PC2=%{y}<extra></extra>",
         "legendgroup": "Ost_8010_214",
         "marker": {
          "color": "#FF97FF",
          "symbol": "circle"
         },
         "mode": "markers",
         "name": "Ost_8010_214",
         "orientation": "v",
         "showlegend": true,
         "type": "scatter",
         "x": [
          -0.2965593975415797
         ],
         "xaxis": "x",
         "y": [
          -0.1954928120158114
         ],
         "yaxis": "y"
        },
        {
         "hovertemplate": "index=Nord_8020_102<br>PC1=%{x}<br>PC2=%{y}<extra></extra>",
         "legendgroup": "Nord_8020_102",
         "marker": {
          "color": "#FECB52",
          "symbol": "circle"
         },
         "mode": "markers",
         "name": "Nord_8020_102",
         "orientation": "v",
         "showlegend": true,
         "type": "scatter",
         "x": [
          -0.2450000894731331
         ],
         "xaxis": "x",
         "y": [
          -0.0873595805839381
         ],
         "yaxis": "y"
        },
        {
         "hovertemplate": "index=West_8020_103<br>PC1=%{x}<br>PC2=%{y}<extra></extra>",
         "legendgroup": "West_8020_103",
         "marker": {
          "color": "#636efa",
          "symbol": "circle"
         },
         "mode": "markers",
         "name": "West_8020_103",
         "orientation": "v",
         "showlegend": true,
         "type": "scatter",
         "x": [
          -0.22026679705419472
         ],
         "xaxis": "x",
         "y": [
          -0.039553549277357034
         ],
         "yaxis": "y"
        },
        {
         "hovertemplate": "index=Sud_8020_107<br>PC1=%{x}<br>PC2=%{y}<extra></extra>",
         "legendgroup": "Sud_8020_107",
         "marker": {
          "color": "#EF553B",
          "symbol": "circle"
         },
         "mode": "markers",
         "name": "Sud_8020_107",
         "orientation": "v",
         "showlegend": true,
         "type": "scatter",
         "x": [
          -0.2057281294817873
         ],
         "xaxis": "x",
         "y": [
          -0.13151773337491332
         ],
         "yaxis": "y"
        },
        {
         "hovertemplate": "index=Sud_8041_218<br>PC1=%{x}<br>PC2=%{y}<extra></extra>",
         "legendgroup": "Sud_8041_218",
         "marker": {
          "color": "#00cc96",
          "symbol": "circle"
         },
         "mode": "markers",
         "name": "Sud_8041_218",
         "orientation": "v",
         "showlegend": true,
         "type": "scatter",
         "x": [
          -0.24837547942783952
         ],
         "xaxis": "x",
         "y": [
          -0.07940379405425085
         ],
         "yaxis": "y"
        },
        {
         "hovertemplate": "index=Ost_8041_221<br>PC1=%{x}<br>PC2=%{y}<extra></extra>",
         "legendgroup": "Ost_8041_221",
         "marker": {
          "color": "#ab63fa",
          "symbol": "circle"
         },
         "mode": "markers",
         "name": "Ost_8041_221",
         "orientation": "v",
         "showlegend": true,
         "type": "scatter",
         "x": [
          -0.2703417010418273
         ],
         "xaxis": "x",
         "y": [
          0.12976011210892135
         ],
         "yaxis": "y"
        },
        {
         "hovertemplate": "index=Nord_8045_203<br>PC1=%{x}<br>PC2=%{y}<extra></extra>",
         "legendgroup": "Nord_8045_203",
         "marker": {
          "color": "#FFA15A",
          "symbol": "circle"
         },
         "mode": "markers",
         "name": "Nord_8045_203",
         "orientation": "v",
         "showlegend": true,
         "type": "scatter",
         "x": [
          -0.24076783667902416
         ],
         "xaxis": "x",
         "y": [
          -0.017797091778576125
         ],
         "yaxis": "y"
        },
        {
         "hovertemplate": "index=Nord_8051_101<br>PC1=%{x}<br>PC2=%{y}<extra></extra>",
         "legendgroup": "Nord_8051_101",
         "marker": {
          "color": "#19d3f3",
          "symbol": "circle"
         },
         "mode": "markers",
         "name": "Nord_8051_101",
         "orientation": "v",
         "showlegend": true,
         "type": "scatter",
         "x": [
          -0.2612118239621222
         ],
         "xaxis": "x",
         "y": [
          -0.09964897415020452
         ],
         "yaxis": "y"
        }
       ],
       "layout": {
        "legend": {
         "title": {
          "text": "index"
         },
         "tracegroupgap": 0
        },
        "margin": {
         "t": 60
        },
        "template": {
         "data": {
          "bar": [
           {
            "error_x": {
             "color": "#2a3f5f"
            },
            "error_y": {
             "color": "#2a3f5f"
            },
            "marker": {
             "line": {
              "color": "#E5ECF6",
              "width": 0.5
             },
             "pattern": {
              "fillmode": "overlay",
              "size": 10,
              "solidity": 0.2
             }
            },
            "type": "bar"
           }
          ],
          "barpolar": [
           {
            "marker": {
             "line": {
              "color": "#E5ECF6",
              "width": 0.5
             },
             "pattern": {
              "fillmode": "overlay",
              "size": 10,
              "solidity": 0.2
             }
            },
            "type": "barpolar"
           }
          ],
          "carpet": [
           {
            "aaxis": {
             "endlinecolor": "#2a3f5f",
             "gridcolor": "white",
             "linecolor": "white",
             "minorgridcolor": "white",
             "startlinecolor": "#2a3f5f"
            },
            "baxis": {
             "endlinecolor": "#2a3f5f",
             "gridcolor": "white",
             "linecolor": "white",
             "minorgridcolor": "white",
             "startlinecolor": "#2a3f5f"
            },
            "type": "carpet"
           }
          ],
          "choropleth": [
           {
            "colorbar": {
             "outlinewidth": 0,
             "ticks": ""
            },
            "type": "choropleth"
           }
          ],
          "contour": [
           {
            "colorbar": {
             "outlinewidth": 0,
             "ticks": ""
            },
            "colorscale": [
             [
              0,
              "#0d0887"
             ],
             [
              0.1111111111111111,
              "#46039f"
             ],
             [
              0.2222222222222222,
              "#7201a8"
             ],
             [
              0.3333333333333333,
              "#9c179e"
             ],
             [
              0.4444444444444444,
              "#bd3786"
             ],
             [
              0.5555555555555556,
              "#d8576b"
             ],
             [
              0.6666666666666666,
              "#ed7953"
             ],
             [
              0.7777777777777778,
              "#fb9f3a"
             ],
             [
              0.8888888888888888,
              "#fdca26"
             ],
             [
              1,
              "#f0f921"
             ]
            ],
            "type": "contour"
           }
          ],
          "contourcarpet": [
           {
            "colorbar": {
             "outlinewidth": 0,
             "ticks": ""
            },
            "type": "contourcarpet"
           }
          ],
          "heatmap": [
           {
            "colorbar": {
             "outlinewidth": 0,
             "ticks": ""
            },
            "colorscale": [
             [
              0,
              "#0d0887"
             ],
             [
              0.1111111111111111,
              "#46039f"
             ],
             [
              0.2222222222222222,
              "#7201a8"
             ],
             [
              0.3333333333333333,
              "#9c179e"
             ],
             [
              0.4444444444444444,
              "#bd3786"
             ],
             [
              0.5555555555555556,
              "#d8576b"
             ],
             [
              0.6666666666666666,
              "#ed7953"
             ],
             [
              0.7777777777777778,
              "#fb9f3a"
             ],
             [
              0.8888888888888888,
              "#fdca26"
             ],
             [
              1,
              "#f0f921"
             ]
            ],
            "type": "heatmap"
           }
          ],
          "heatmapgl": [
           {
            "colorbar": {
             "outlinewidth": 0,
             "ticks": ""
            },
            "colorscale": [
             [
              0,
              "#0d0887"
             ],
             [
              0.1111111111111111,
              "#46039f"
             ],
             [
              0.2222222222222222,
              "#7201a8"
             ],
             [
              0.3333333333333333,
              "#9c179e"
             ],
             [
              0.4444444444444444,
              "#bd3786"
             ],
             [
              0.5555555555555556,
              "#d8576b"
             ],
             [
              0.6666666666666666,
              "#ed7953"
             ],
             [
              0.7777777777777778,
              "#fb9f3a"
             ],
             [
              0.8888888888888888,
              "#fdca26"
             ],
             [
              1,
              "#f0f921"
             ]
            ],
            "type": "heatmapgl"
           }
          ],
          "histogram": [
           {
            "marker": {
             "pattern": {
              "fillmode": "overlay",
              "size": 10,
              "solidity": 0.2
             }
            },
            "type": "histogram"
           }
          ],
          "histogram2d": [
           {
            "colorbar": {
             "outlinewidth": 0,
             "ticks": ""
            },
            "colorscale": [
             [
              0,
              "#0d0887"
             ],
             [
              0.1111111111111111,
              "#46039f"
             ],
             [
              0.2222222222222222,
              "#7201a8"
             ],
             [
              0.3333333333333333,
              "#9c179e"
             ],
             [
              0.4444444444444444,
              "#bd3786"
             ],
             [
              0.5555555555555556,
              "#d8576b"
             ],
             [
              0.6666666666666666,
              "#ed7953"
             ],
             [
              0.7777777777777778,
              "#fb9f3a"
             ],
             [
              0.8888888888888888,
              "#fdca26"
             ],
             [
              1,
              "#f0f921"
             ]
            ],
            "type": "histogram2d"
           }
          ],
          "histogram2dcontour": [
           {
            "colorbar": {
             "outlinewidth": 0,
             "ticks": ""
            },
            "colorscale": [
             [
              0,
              "#0d0887"
             ],
             [
              0.1111111111111111,
              "#46039f"
             ],
             [
              0.2222222222222222,
              "#7201a8"
             ],
             [
              0.3333333333333333,
              "#9c179e"
             ],
             [
              0.4444444444444444,
              "#bd3786"
             ],
             [
              0.5555555555555556,
              "#d8576b"
             ],
             [
              0.6666666666666666,
              "#ed7953"
             ],
             [
              0.7777777777777778,
              "#fb9f3a"
             ],
             [
              0.8888888888888888,
              "#fdca26"
             ],
             [
              1,
              "#f0f921"
             ]
            ],
            "type": "histogram2dcontour"
           }
          ],
          "mesh3d": [
           {
            "colorbar": {
             "outlinewidth": 0,
             "ticks": ""
            },
            "type": "mesh3d"
           }
          ],
          "parcoords": [
           {
            "line": {
             "colorbar": {
              "outlinewidth": 0,
              "ticks": ""
             }
            },
            "type": "parcoords"
           }
          ],
          "pie": [
           {
            "automargin": true,
            "type": "pie"
           }
          ],
          "scatter": [
           {
            "marker": {
             "colorbar": {
              "outlinewidth": 0,
              "ticks": ""
             }
            },
            "type": "scatter"
           }
          ],
          "scatter3d": [
           {
            "line": {
             "colorbar": {
              "outlinewidth": 0,
              "ticks": ""
             }
            },
            "marker": {
             "colorbar": {
              "outlinewidth": 0,
              "ticks": ""
             }
            },
            "type": "scatter3d"
           }
          ],
          "scattercarpet": [
           {
            "marker": {
             "colorbar": {
              "outlinewidth": 0,
              "ticks": ""
             }
            },
            "type": "scattercarpet"
           }
          ],
          "scattergeo": [
           {
            "marker": {
             "colorbar": {
              "outlinewidth": 0,
              "ticks": ""
             }
            },
            "type": "scattergeo"
           }
          ],
          "scattergl": [
           {
            "marker": {
             "colorbar": {
              "outlinewidth": 0,
              "ticks": ""
             }
            },
            "type": "scattergl"
           }
          ],
          "scattermapbox": [
           {
            "marker": {
             "colorbar": {
              "outlinewidth": 0,
              "ticks": ""
             }
            },
            "type": "scattermapbox"
           }
          ],
          "scatterpolar": [
           {
            "marker": {
             "colorbar": {
              "outlinewidth": 0,
              "ticks": ""
             }
            },
            "type": "scatterpolar"
           }
          ],
          "scatterpolargl": [
           {
            "marker": {
             "colorbar": {
              "outlinewidth": 0,
              "ticks": ""
             }
            },
            "type": "scatterpolargl"
           }
          ],
          "scatterternary": [
           {
            "marker": {
             "colorbar": {
              "outlinewidth": 0,
              "ticks": ""
             }
            },
            "type": "scatterternary"
           }
          ],
          "surface": [
           {
            "colorbar": {
             "outlinewidth": 0,
             "ticks": ""
            },
            "colorscale": [
             [
              0,
              "#0d0887"
             ],
             [
              0.1111111111111111,
              "#46039f"
             ],
             [
              0.2222222222222222,
              "#7201a8"
             ],
             [
              0.3333333333333333,
              "#9c179e"
             ],
             [
              0.4444444444444444,
              "#bd3786"
             ],
             [
              0.5555555555555556,
              "#d8576b"
             ],
             [
              0.6666666666666666,
              "#ed7953"
             ],
             [
              0.7777777777777778,
              "#fb9f3a"
             ],
             [
              0.8888888888888888,
              "#fdca26"
             ],
             [
              1,
              "#f0f921"
             ]
            ],
            "type": "surface"
           }
          ],
          "table": [
           {
            "cells": {
             "fill": {
              "color": "#EBF0F8"
             },
             "line": {
              "color": "white"
             }
            },
            "header": {
             "fill": {
              "color": "#C8D4E3"
             },
             "line": {
              "color": "white"
             }
            },
            "type": "table"
           }
          ]
         },
         "layout": {
          "annotationdefaults": {
           "arrowcolor": "#2a3f5f",
           "arrowhead": 0,
           "arrowwidth": 1
          },
          "autotypenumbers": "strict",
          "coloraxis": {
           "colorbar": {
            "outlinewidth": 0,
            "ticks": ""
           }
          },
          "colorscale": {
           "diverging": [
            [
             0,
             "#8e0152"
            ],
            [
             0.1,
             "#c51b7d"
            ],
            [
             0.2,
             "#de77ae"
            ],
            [
             0.3,
             "#f1b6da"
            ],
            [
             0.4,
             "#fde0ef"
            ],
            [
             0.5,
             "#f7f7f7"
            ],
            [
             0.6,
             "#e6f5d0"
            ],
            [
             0.7,
             "#b8e186"
            ],
            [
             0.8,
             "#7fbc41"
            ],
            [
             0.9,
             "#4d9221"
            ],
            [
             1,
             "#276419"
            ]
           ],
           "sequential": [
            [
             0,
             "#0d0887"
            ],
            [
             0.1111111111111111,
             "#46039f"
            ],
            [
             0.2222222222222222,
             "#7201a8"
            ],
            [
             0.3333333333333333,
             "#9c179e"
            ],
            [
             0.4444444444444444,
             "#bd3786"
            ],
            [
             0.5555555555555556,
             "#d8576b"
            ],
            [
             0.6666666666666666,
             "#ed7953"
            ],
            [
             0.7777777777777778,
             "#fb9f3a"
            ],
            [
             0.8888888888888888,
             "#fdca26"
            ],
            [
             1,
             "#f0f921"
            ]
           ],
           "sequentialminus": [
            [
             0,
             "#0d0887"
            ],
            [
             0.1111111111111111,
             "#46039f"
            ],
            [
             0.2222222222222222,
             "#7201a8"
            ],
            [
             0.3333333333333333,
             "#9c179e"
            ],
            [
             0.4444444444444444,
             "#bd3786"
            ],
            [
             0.5555555555555556,
             "#d8576b"
            ],
            [
             0.6666666666666666,
             "#ed7953"
            ],
            [
             0.7777777777777778,
             "#fb9f3a"
            ],
            [
             0.8888888888888888,
             "#fdca26"
            ],
            [
             1,
             "#f0f921"
            ]
           ]
          },
          "colorway": [
           "#636efa",
           "#EF553B",
           "#00cc96",
           "#ab63fa",
           "#FFA15A",
           "#19d3f3",
           "#FF6692",
           "#B6E880",
           "#FF97FF",
           "#FECB52"
          ],
          "font": {
           "color": "#2a3f5f"
          },
          "geo": {
           "bgcolor": "white",
           "lakecolor": "white",
           "landcolor": "#E5ECF6",
           "showlakes": true,
           "showland": true,
           "subunitcolor": "white"
          },
          "hoverlabel": {
           "align": "left"
          },
          "hovermode": "closest",
          "mapbox": {
           "style": "light"
          },
          "paper_bgcolor": "white",
          "plot_bgcolor": "#E5ECF6",
          "polar": {
           "angularaxis": {
            "gridcolor": "white",
            "linecolor": "white",
            "ticks": ""
           },
           "bgcolor": "#E5ECF6",
           "radialaxis": {
            "gridcolor": "white",
            "linecolor": "white",
            "ticks": ""
           }
          },
          "scene": {
           "xaxis": {
            "backgroundcolor": "#E5ECF6",
            "gridcolor": "white",
            "gridwidth": 2,
            "linecolor": "white",
            "showbackground": true,
            "ticks": "",
            "zerolinecolor": "white"
           },
           "yaxis": {
            "backgroundcolor": "#E5ECF6",
            "gridcolor": "white",
            "gridwidth": 2,
            "linecolor": "white",
            "showbackground": true,
            "ticks": "",
            "zerolinecolor": "white"
           },
           "zaxis": {
            "backgroundcolor": "#E5ECF6",
            "gridcolor": "white",
            "gridwidth": 2,
            "linecolor": "white",
            "showbackground": true,
            "ticks": "",
            "zerolinecolor": "white"
           }
          },
          "shapedefaults": {
           "line": {
            "color": "#2a3f5f"
           }
          },
          "ternary": {
           "aaxis": {
            "gridcolor": "white",
            "linecolor": "white",
            "ticks": ""
           },
           "baxis": {
            "gridcolor": "white",
            "linecolor": "white",
            "ticks": ""
           },
           "bgcolor": "#E5ECF6",
           "caxis": {
            "gridcolor": "white",
            "linecolor": "white",
            "ticks": ""
           }
          },
          "title": {
           "x": 0.05
          },
          "xaxis": {
           "automargin": true,
           "gridcolor": "white",
           "linecolor": "white",
           "ticks": "",
           "title": {
            "standoff": 15
           },
           "zerolinecolor": "white",
           "zerolinewidth": 2
          },
          "yaxis": {
           "automargin": true,
           "gridcolor": "white",
           "linecolor": "white",
           "ticks": "",
           "title": {
            "standoff": 15
           },
           "zerolinecolor": "white",
           "zerolinewidth": 2
          }
         }
        },
        "xaxis": {
         "anchor": "y",
         "domain": [
          0,
          1
         ],
         "title": {
          "text": "PC1"
         }
        },
        "yaxis": {
         "anchor": "x",
         "domain": [
          0,
          1
         ],
         "title": {
          "text": "PC2"
         }
        }
       }
      },
      "text/html": [
       "<div>                            <div id=\"b5147730-c3ba-4536-b1e3-8097ca4e3962\" class=\"plotly-graph-div\" style=\"height:525px; width:100%;\"></div>            <script type=\"text/javascript\">                require([\"plotly\"], function(Plotly) {                    window.PLOTLYENV=window.PLOTLYENV || {};                                    if (document.getElementById(\"b5147730-c3ba-4536-b1e3-8097ca4e3962\")) {                    Plotly.newPlot(                        \"b5147730-c3ba-4536-b1e3-8097ca4e3962\",                        [{\"hovertemplate\":\"index=Ost_8010_208<br>PC1=%{x}<br>PC2=%{y}<extra></extra>\",\"legendgroup\":\"Ost_8010_208\",\"marker\":{\"color\":\"#636efa\",\"symbol\":\"circle\"},\"mode\":\"markers\",\"name\":\"Ost_8010_208\",\"orientation\":\"v\",\"showlegend\":true,\"x\":[-0.2279920755041075],\"xaxis\":\"x\",\"y\":[0.5933460868135768],\"yaxis\":\"y\",\"type\":\"scatter\"},{\"hovertemplate\":\"index=DonBosco_8020_110<br>PC1=%{x}<br>PC2=%{y}<extra></extra>\",\"legendgroup\":\"DonBosco_8020_110\",\"marker\":{\"color\":\"#EF553B\",\"symbol\":\"circle\"},\"mode\":\"markers\",\"name\":\"DonBosco_8020_110\",\"orientation\":\"v\",\"showlegend\":true,\"x\":[-0.21341971791641082],\"xaxis\":\"x\",\"y\":[-0.29795280857001344],\"yaxis\":\"y\",\"type\":\"scatter\"},{\"hovertemplate\":\"index=DonBosco_8020_119<br>PC1=%{x}<br>PC2=%{y}<extra></extra>\",\"legendgroup\":\"DonBosco_8020_119\",\"marker\":{\"color\":\"#00cc96\",\"symbol\":\"circle\"},\"mode\":\"markers\",\"name\":\"DonBosco_8020_119\",\"orientation\":\"v\",\"showlegend\":true,\"x\":[-0.09305588282265741],\"xaxis\":\"x\",\"y\":[0.6502166086780777],\"yaxis\":\"y\",\"type\":\"scatter\"},{\"hovertemplate\":\"index=DonBosco_8020_122<br>PC1=%{x}<br>PC2=%{y}<extra></extra>\",\"legendgroup\":\"DonBosco_8020_122\",\"marker\":{\"color\":\"#ab63fa\",\"symbol\":\"circle\"},\"mode\":\"markers\",\"name\":\"DonBosco_8020_122\",\"orientation\":\"v\",\"showlegend\":true,\"x\":[-0.3115669956285687],\"xaxis\":\"x\",\"y\":[0.0009460533760157516],\"yaxis\":\"y\",\"type\":\"scatter\"},{\"hovertemplate\":\"index=DonBosco_8053_111<br>PC1=%{x}<br>PC2=%{y}<extra></extra>\",\"legendgroup\":\"DonBosco_8053_111\",\"marker\":{\"color\":\"#FFA15A\",\"symbol\":\"circle\"},\"mode\":\"markers\",\"name\":\"DonBosco_8053_111\",\"orientation\":\"v\",\"showlegend\":true,\"x\":[-0.2420221403828021],\"xaxis\":\"x\",\"y\":[-0.10640727984466855],\"yaxis\":\"y\",\"type\":\"scatter\"},{\"hovertemplate\":\"index=Nord_8010_205<br>PC1=%{x}<br>PC2=%{y}<extra></extra>\",\"legendgroup\":\"Nord_8010_205\",\"marker\":{\"color\":\"#19d3f3\",\"symbol\":\"circle\"},\"mode\":\"markers\",\"name\":\"Nord_8010_205\",\"orientation\":\"v\",\"showlegend\":true,\"x\":[-0.321991093078658],\"xaxis\":\"x\",\"y\":[0.1473164676988655],\"yaxis\":\"y\",\"type\":\"scatter\"},{\"hovertemplate\":\"index=Ost_8010_209<br>PC1=%{x}<br>PC2=%{y}<extra></extra>\",\"legendgroup\":\"Ost_8010_209\",\"marker\":{\"color\":\"#FF6692\",\"symbol\":\"circle\"},\"mode\":\"markers\",\"name\":\"Ost_8010_209\",\"orientation\":\"v\",\"showlegend\":true,\"x\":[-0.2659110489946576],\"xaxis\":\"x\",\"y\":[-0.0261912429256816],\"yaxis\":\"y\",\"type\":\"scatter\"},{\"hovertemplate\":\"index=Ost_8010_213<br>PC1=%{x}<br>PC2=%{y}<extra></extra>\",\"legendgroup\":\"Ost_8010_213\",\"marker\":{\"color\":\"#B6E880\",\"symbol\":\"circle\"},\"mode\":\"markers\",\"name\":\"Ost_8010_213\",\"orientation\":\"v\",\"showlegend\":true,\"x\":[-0.2529560306998444],\"xaxis\":\"x\",\"y\":[-0.06761318505577099],\"yaxis\":\"y\",\"type\":\"scatter\"},{\"hovertemplate\":\"index=Ost_8010_214<br>PC1=%{x}<br>PC2=%{y}<extra></extra>\",\"legendgroup\":\"Ost_8010_214\",\"marker\":{\"color\":\"#FF97FF\",\"symbol\":\"circle\"},\"mode\":\"markers\",\"name\":\"Ost_8010_214\",\"orientation\":\"v\",\"showlegend\":true,\"x\":[-0.2965593975415797],\"xaxis\":\"x\",\"y\":[-0.1954928120158114],\"yaxis\":\"y\",\"type\":\"scatter\"},{\"hovertemplate\":\"index=Nord_8020_102<br>PC1=%{x}<br>PC2=%{y}<extra></extra>\",\"legendgroup\":\"Nord_8020_102\",\"marker\":{\"color\":\"#FECB52\",\"symbol\":\"circle\"},\"mode\":\"markers\",\"name\":\"Nord_8020_102\",\"orientation\":\"v\",\"showlegend\":true,\"x\":[-0.2450000894731331],\"xaxis\":\"x\",\"y\":[-0.0873595805839381],\"yaxis\":\"y\",\"type\":\"scatter\"},{\"hovertemplate\":\"index=West_8020_103<br>PC1=%{x}<br>PC2=%{y}<extra></extra>\",\"legendgroup\":\"West_8020_103\",\"marker\":{\"color\":\"#636efa\",\"symbol\":\"circle\"},\"mode\":\"markers\",\"name\":\"West_8020_103\",\"orientation\":\"v\",\"showlegend\":true,\"x\":[-0.22026679705419472],\"xaxis\":\"x\",\"y\":[-0.039553549277357034],\"yaxis\":\"y\",\"type\":\"scatter\"},{\"hovertemplate\":\"index=Sud_8020_107<br>PC1=%{x}<br>PC2=%{y}<extra></extra>\",\"legendgroup\":\"Sud_8020_107\",\"marker\":{\"color\":\"#EF553B\",\"symbol\":\"circle\"},\"mode\":\"markers\",\"name\":\"Sud_8020_107\",\"orientation\":\"v\",\"showlegend\":true,\"x\":[-0.2057281294817873],\"xaxis\":\"x\",\"y\":[-0.13151773337491332],\"yaxis\":\"y\",\"type\":\"scatter\"},{\"hovertemplate\":\"index=Sud_8041_218<br>PC1=%{x}<br>PC2=%{y}<extra></extra>\",\"legendgroup\":\"Sud_8041_218\",\"marker\":{\"color\":\"#00cc96\",\"symbol\":\"circle\"},\"mode\":\"markers\",\"name\":\"Sud_8041_218\",\"orientation\":\"v\",\"showlegend\":true,\"x\":[-0.24837547942783952],\"xaxis\":\"x\",\"y\":[-0.07940379405425085],\"yaxis\":\"y\",\"type\":\"scatter\"},{\"hovertemplate\":\"index=Ost_8041_221<br>PC1=%{x}<br>PC2=%{y}<extra></extra>\",\"legendgroup\":\"Ost_8041_221\",\"marker\":{\"color\":\"#ab63fa\",\"symbol\":\"circle\"},\"mode\":\"markers\",\"name\":\"Ost_8041_221\",\"orientation\":\"v\",\"showlegend\":true,\"x\":[-0.2703417010418273],\"xaxis\":\"x\",\"y\":[0.12976011210892135],\"yaxis\":\"y\",\"type\":\"scatter\"},{\"hovertemplate\":\"index=Nord_8045_203<br>PC1=%{x}<br>PC2=%{y}<extra></extra>\",\"legendgroup\":\"Nord_8045_203\",\"marker\":{\"color\":\"#FFA15A\",\"symbol\":\"circle\"},\"mode\":\"markers\",\"name\":\"Nord_8045_203\",\"orientation\":\"v\",\"showlegend\":true,\"x\":[-0.24076783667902416],\"xaxis\":\"x\",\"y\":[-0.017797091778576125],\"yaxis\":\"y\",\"type\":\"scatter\"},{\"hovertemplate\":\"index=Nord_8051_101<br>PC1=%{x}<br>PC2=%{y}<extra></extra>\",\"legendgroup\":\"Nord_8051_101\",\"marker\":{\"color\":\"#19d3f3\",\"symbol\":\"circle\"},\"mode\":\"markers\",\"name\":\"Nord_8051_101\",\"orientation\":\"v\",\"showlegend\":true,\"x\":[-0.2612118239621222],\"xaxis\":\"x\",\"y\":[-0.09964897415020452],\"yaxis\":\"y\",\"type\":\"scatter\"}],                        {\"template\":{\"data\":{\"bar\":[{\"error_x\":{\"color\":\"#2a3f5f\"},\"error_y\":{\"color\":\"#2a3f5f\"},\"marker\":{\"line\":{\"color\":\"#E5ECF6\",\"width\":0.5},\"pattern\":{\"fillmode\":\"overlay\",\"size\":10,\"solidity\":0.2}},\"type\":\"bar\"}],\"barpolar\":[{\"marker\":{\"line\":{\"color\":\"#E5ECF6\",\"width\":0.5},\"pattern\":{\"fillmode\":\"overlay\",\"size\":10,\"solidity\":0.2}},\"type\":\"barpolar\"}],\"carpet\":[{\"aaxis\":{\"endlinecolor\":\"#2a3f5f\",\"gridcolor\":\"white\",\"linecolor\":\"white\",\"minorgridcolor\":\"white\",\"startlinecolor\":\"#2a3f5f\"},\"baxis\":{\"endlinecolor\":\"#2a3f5f\",\"gridcolor\":\"white\",\"linecolor\":\"white\",\"minorgridcolor\":\"white\",\"startlinecolor\":\"#2a3f5f\"},\"type\":\"carpet\"}],\"choropleth\":[{\"colorbar\":{\"outlinewidth\":0,\"ticks\":\"\"},\"type\":\"choropleth\"}],\"contour\":[{\"colorbar\":{\"outlinewidth\":0,\"ticks\":\"\"},\"colorscale\":[[0.0,\"#0d0887\"],[0.1111111111111111,\"#46039f\"],[0.2222222222222222,\"#7201a8\"],[0.3333333333333333,\"#9c179e\"],[0.4444444444444444,\"#bd3786\"],[0.5555555555555556,\"#d8576b\"],[0.6666666666666666,\"#ed7953\"],[0.7777777777777778,\"#fb9f3a\"],[0.8888888888888888,\"#fdca26\"],[1.0,\"#f0f921\"]],\"type\":\"contour\"}],\"contourcarpet\":[{\"colorbar\":{\"outlinewidth\":0,\"ticks\":\"\"},\"type\":\"contourcarpet\"}],\"heatmap\":[{\"colorbar\":{\"outlinewidth\":0,\"ticks\":\"\"},\"colorscale\":[[0.0,\"#0d0887\"],[0.1111111111111111,\"#46039f\"],[0.2222222222222222,\"#7201a8\"],[0.3333333333333333,\"#9c179e\"],[0.4444444444444444,\"#bd3786\"],[0.5555555555555556,\"#d8576b\"],[0.6666666666666666,\"#ed7953\"],[0.7777777777777778,\"#fb9f3a\"],[0.8888888888888888,\"#fdca26\"],[1.0,\"#f0f921\"]],\"type\":\"heatmap\"}],\"heatmapgl\":[{\"colorbar\":{\"outlinewidth\":0,\"ticks\":\"\"},\"colorscale\":[[0.0,\"#0d0887\"],[0.1111111111111111,\"#46039f\"],[0.2222222222222222,\"#7201a8\"],[0.3333333333333333,\"#9c179e\"],[0.4444444444444444,\"#bd3786\"],[0.5555555555555556,\"#d8576b\"],[0.6666666666666666,\"#ed7953\"],[0.7777777777777778,\"#fb9f3a\"],[0.8888888888888888,\"#fdca26\"],[1.0,\"#f0f921\"]],\"type\":\"heatmapgl\"}],\"histogram\":[{\"marker\":{\"pattern\":{\"fillmode\":\"overlay\",\"size\":10,\"solidity\":0.2}},\"type\":\"histogram\"}],\"histogram2d\":[{\"colorbar\":{\"outlinewidth\":0,\"ticks\":\"\"},\"colorscale\":[[0.0,\"#0d0887\"],[0.1111111111111111,\"#46039f\"],[0.2222222222222222,\"#7201a8\"],[0.3333333333333333,\"#9c179e\"],[0.4444444444444444,\"#bd3786\"],[0.5555555555555556,\"#d8576b\"],[0.6666666666666666,\"#ed7953\"],[0.7777777777777778,\"#fb9f3a\"],[0.8888888888888888,\"#fdca26\"],[1.0,\"#f0f921\"]],\"type\":\"histogram2d\"}],\"histogram2dcontour\":[{\"colorbar\":{\"outlinewidth\":0,\"ticks\":\"\"},\"colorscale\":[[0.0,\"#0d0887\"],[0.1111111111111111,\"#46039f\"],[0.2222222222222222,\"#7201a8\"],[0.3333333333333333,\"#9c179e\"],[0.4444444444444444,\"#bd3786\"],[0.5555555555555556,\"#d8576b\"],[0.6666666666666666,\"#ed7953\"],[0.7777777777777778,\"#fb9f3a\"],[0.8888888888888888,\"#fdca26\"],[1.0,\"#f0f921\"]],\"type\":\"histogram2dcontour\"}],\"mesh3d\":[{\"colorbar\":{\"outlinewidth\":0,\"ticks\":\"\"},\"type\":\"mesh3d\"}],\"parcoords\":[{\"line\":{\"colorbar\":{\"outlinewidth\":0,\"ticks\":\"\"}},\"type\":\"parcoords\"}],\"pie\":[{\"automargin\":true,\"type\":\"pie\"}],\"scatter\":[{\"marker\":{\"colorbar\":{\"outlinewidth\":0,\"ticks\":\"\"}},\"type\":\"scatter\"}],\"scatter3d\":[{\"line\":{\"colorbar\":{\"outlinewidth\":0,\"ticks\":\"\"}},\"marker\":{\"colorbar\":{\"outlinewidth\":0,\"ticks\":\"\"}},\"type\":\"scatter3d\"}],\"scattercarpet\":[{\"marker\":{\"colorbar\":{\"outlinewidth\":0,\"ticks\":\"\"}},\"type\":\"scattercarpet\"}],\"scattergeo\":[{\"marker\":{\"colorbar\":{\"outlinewidth\":0,\"ticks\":\"\"}},\"type\":\"scattergeo\"}],\"scattergl\":[{\"marker\":{\"colorbar\":{\"outlinewidth\":0,\"ticks\":\"\"}},\"type\":\"scattergl\"}],\"scattermapbox\":[{\"marker\":{\"colorbar\":{\"outlinewidth\":0,\"ticks\":\"\"}},\"type\":\"scattermapbox\"}],\"scatterpolar\":[{\"marker\":{\"colorbar\":{\"outlinewidth\":0,\"ticks\":\"\"}},\"type\":\"scatterpolar\"}],\"scatterpolargl\":[{\"marker\":{\"colorbar\":{\"outlinewidth\":0,\"ticks\":\"\"}},\"type\":\"scatterpolargl\"}],\"scatterternary\":[{\"marker\":{\"colorbar\":{\"outlinewidth\":0,\"ticks\":\"\"}},\"type\":\"scatterternary\"}],\"surface\":[{\"colorbar\":{\"outlinewidth\":0,\"ticks\":\"\"},\"colorscale\":[[0.0,\"#0d0887\"],[0.1111111111111111,\"#46039f\"],[0.2222222222222222,\"#7201a8\"],[0.3333333333333333,\"#9c179e\"],[0.4444444444444444,\"#bd3786\"],[0.5555555555555556,\"#d8576b\"],[0.6666666666666666,\"#ed7953\"],[0.7777777777777778,\"#fb9f3a\"],[0.8888888888888888,\"#fdca26\"],[1.0,\"#f0f921\"]],\"type\":\"surface\"}],\"table\":[{\"cells\":{\"fill\":{\"color\":\"#EBF0F8\"},\"line\":{\"color\":\"white\"}},\"header\":{\"fill\":{\"color\":\"#C8D4E3\"},\"line\":{\"color\":\"white\"}},\"type\":\"table\"}]},\"layout\":{\"annotationdefaults\":{\"arrowcolor\":\"#2a3f5f\",\"arrowhead\":0,\"arrowwidth\":1},\"autotypenumbers\":\"strict\",\"coloraxis\":{\"colorbar\":{\"outlinewidth\":0,\"ticks\":\"\"}},\"colorscale\":{\"diverging\":[[0,\"#8e0152\"],[0.1,\"#c51b7d\"],[0.2,\"#de77ae\"],[0.3,\"#f1b6da\"],[0.4,\"#fde0ef\"],[0.5,\"#f7f7f7\"],[0.6,\"#e6f5d0\"],[0.7,\"#b8e186\"],[0.8,\"#7fbc41\"],[0.9,\"#4d9221\"],[1,\"#276419\"]],\"sequential\":[[0.0,\"#0d0887\"],[0.1111111111111111,\"#46039f\"],[0.2222222222222222,\"#7201a8\"],[0.3333333333333333,\"#9c179e\"],[0.4444444444444444,\"#bd3786\"],[0.5555555555555556,\"#d8576b\"],[0.6666666666666666,\"#ed7953\"],[0.7777777777777778,\"#fb9f3a\"],[0.8888888888888888,\"#fdca26\"],[1.0,\"#f0f921\"]],\"sequentialminus\":[[0.0,\"#0d0887\"],[0.1111111111111111,\"#46039f\"],[0.2222222222222222,\"#7201a8\"],[0.3333333333333333,\"#9c179e\"],[0.4444444444444444,\"#bd3786\"],[0.5555555555555556,\"#d8576b\"],[0.6666666666666666,\"#ed7953\"],[0.7777777777777778,\"#fb9f3a\"],[0.8888888888888888,\"#fdca26\"],[1.0,\"#f0f921\"]]},\"colorway\":[\"#636efa\",\"#EF553B\",\"#00cc96\",\"#ab63fa\",\"#FFA15A\",\"#19d3f3\",\"#FF6692\",\"#B6E880\",\"#FF97FF\",\"#FECB52\"],\"font\":{\"color\":\"#2a3f5f\"},\"geo\":{\"bgcolor\":\"white\",\"lakecolor\":\"white\",\"landcolor\":\"#E5ECF6\",\"showlakes\":true,\"showland\":true,\"subunitcolor\":\"white\"},\"hoverlabel\":{\"align\":\"left\"},\"hovermode\":\"closest\",\"mapbox\":{\"style\":\"light\"},\"paper_bgcolor\":\"white\",\"plot_bgcolor\":\"#E5ECF6\",\"polar\":{\"angularaxis\":{\"gridcolor\":\"white\",\"linecolor\":\"white\",\"ticks\":\"\"},\"bgcolor\":\"#E5ECF6\",\"radialaxis\":{\"gridcolor\":\"white\",\"linecolor\":\"white\",\"ticks\":\"\"}},\"scene\":{\"xaxis\":{\"backgroundcolor\":\"#E5ECF6\",\"gridcolor\":\"white\",\"gridwidth\":2,\"linecolor\":\"white\",\"showbackground\":true,\"ticks\":\"\",\"zerolinecolor\":\"white\"},\"yaxis\":{\"backgroundcolor\":\"#E5ECF6\",\"gridcolor\":\"white\",\"gridwidth\":2,\"linecolor\":\"white\",\"showbackground\":true,\"ticks\":\"\",\"zerolinecolor\":\"white\"},\"zaxis\":{\"backgroundcolor\":\"#E5ECF6\",\"gridcolor\":\"white\",\"gridwidth\":2,\"linecolor\":\"white\",\"showbackground\":true,\"ticks\":\"\",\"zerolinecolor\":\"white\"}},\"shapedefaults\":{\"line\":{\"color\":\"#2a3f5f\"}},\"ternary\":{\"aaxis\":{\"gridcolor\":\"white\",\"linecolor\":\"white\",\"ticks\":\"\"},\"baxis\":{\"gridcolor\":\"white\",\"linecolor\":\"white\",\"ticks\":\"\"},\"bgcolor\":\"#E5ECF6\",\"caxis\":{\"gridcolor\":\"white\",\"linecolor\":\"white\",\"ticks\":\"\"}},\"title\":{\"x\":0.05},\"xaxis\":{\"automargin\":true,\"gridcolor\":\"white\",\"linecolor\":\"white\",\"ticks\":\"\",\"title\":{\"standoff\":15},\"zerolinecolor\":\"white\",\"zerolinewidth\":2},\"yaxis\":{\"automargin\":true,\"gridcolor\":\"white\",\"linecolor\":\"white\",\"ticks\":\"\",\"title\":{\"standoff\":15},\"zerolinecolor\":\"white\",\"zerolinewidth\":2}}},\"xaxis\":{\"anchor\":\"y\",\"domain\":[0.0,1.0],\"title\":{\"text\":\"PC1\"}},\"yaxis\":{\"anchor\":\"x\",\"domain\":[0.0,1.0],\"title\":{\"text\":\"PC2\"}},\"legend\":{\"title\":{\"text\":\"index\"},\"tracegroupgap\":0},\"margin\":{\"t\":60}},                        {\"responsive\": true}                    ).then(function(){\n",
       "                            \n",
       "var gd = document.getElementById('b5147730-c3ba-4536-b1e3-8097ca4e3962');\n",
       "var x = new MutationObserver(function (mutations, observer) {{\n",
       "        var display = window.getComputedStyle(gd).display;\n",
       "        if (!display || display === 'none') {{\n",
       "            console.log([gd, 'removed!']);\n",
       "            Plotly.purge(gd);\n",
       "            observer.disconnect();\n",
       "        }}\n",
       "}});\n",
       "\n",
       "// Listen for the removal of the full notebook cells\n",
       "var notebookContainer = gd.closest('#notebook-container');\n",
       "if (notebookContainer) {{\n",
       "    x.observe(notebookContainer, {childList: true});\n",
       "}}\n",
       "\n",
       "// Listen for the clearing of the current output cell\n",
       "var outputEl = gd.closest('.output');\n",
       "if (outputEl) {{\n",
       "    x.observe(outputEl, {childList: true});\n",
       "}}\n",
       "\n",
       "                        })                };                });            </script>        </div>"
      ]
     },
     "metadata": {},
     "output_type": "display_data"
    }
   ],
   "source": [
    "fig = px.scatter(loadings, x='PC1',y='PC2',color=loadings.index)\n",
    "fig.show()"
   ]
  },
  {
   "cell_type": "markdown",
   "metadata": {},
   "source": [
    "Znaci tu na grafu iznad se vidi da je 14 tocaka grupirano, a dvije odskacu od toga DonBosco i Ost "
   ]
  },
  {
   "cell_type": "code",
   "execution_count": null,
   "metadata": {},
   "outputs": [],
   "source": []
  }
 ],
 "metadata": {
  "kernelspec": {
   "display_name": "Python 3 (ipykernel)",
   "language": "python",
   "name": "python3"
  },
  "language_info": {
   "codemirror_mode": {
    "name": "ipython",
    "version": 3
   },
   "file_extension": ".py",
   "mimetype": "text/x-python",
   "name": "python",
   "nbconvert_exporter": "python",
   "pygments_lexer": "ipython3",
   "version": "3.9.7"
  }
 },
 "nbformat": 4,
 "nbformat_minor": 4
}
